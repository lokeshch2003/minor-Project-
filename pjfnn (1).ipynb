{
 "cells": [
  {
   "cell_type": "code",
   "execution_count": 9,
   "metadata": {
    "id": "t3IXNoTKNTDo"
   },
   "outputs": [
    {
     "name": "stderr",
     "output_type": "stream",
     "text": [
      "[nltk_data] Downloading package stopwords to\n",
      "[nltk_data]     C:\\Users\\Lokesh\\AppData\\Roaming\\nltk_data...\n",
      "[nltk_data]   Package stopwords is already up-to-date!\n"
     ]
    }
   ],
   "source": [
    "import pandas as pd\n",
    "import numpy as np\n",
    "import nltk\n",
    "from nltk import word_tokenize, pos_tag\n",
    "from nltk.stem import  WordNetLemmatizer\n",
    "from nltk.corpus import stopwords\n",
    "\n",
    "nltk.download('stopwords')\n",
    "\n",
    "\n",
    "from gensim.models import Word2Vec\n",
    "\n",
    "from tqdm import tqdm\n",
    "import time\n",
    "\n",
    "from sklearn.feature_extraction.text import TfidfVectorizer\n",
    "from sklearn.metrics import accuracy_score, roc_auc_score, recall_score, precision_score, f1_score, classification_report\n",
    "\n",
    "import torch\n",
    "from torch.utils import data\n",
    "import torch.nn as nn\n",
    "import torch.optim as optim\n",
    "from torch.utils.data import DataLoader"
   ]
  },
  {
   "cell_type": "markdown",
   "metadata": {
    "id": "isRZl0ojTakT"
   },
   "source": [
    "# 1. Load the data and perform word segmentation"
   ]
  },
  {
   "cell_type": "code",
   "execution_count": 10,
   "metadata": {
    "id": "fmGc1sPfTeRX"
   },
   "outputs": [],
   "source": [
    "job_set = pd.read_csv(\"job_set_cleaned.csv\")\n",
    "user_set = pd.read_csv(\"user_set_cleaned.csv\")\n",
    "dataset = pd.read_csv(\"dataset_cleaned.csv\")\n",
    "work_history = pd.read_csv(\"work_history_cleaned.csv\")"
   ]
  },
  {
   "cell_type": "code",
   "execution_count": 11,
   "metadata": {
    "id": "omfPwPsGQzB3"
   },
   "outputs": [],
   "source": [
    "punctuation=list('。，？！：%&~（）、；“”&|,.?!:%&~();\"\"#@【】/-\\'$+*`[]{}()')\n",
    "stop_words = stopwords.words(\"english\")\n",
    "stop_words.extend([\"n't\",\"wo\",\"'m\",\"'s\",\"'ve\", \"'d\", \"'ll\", \"``\", \"''\", \"--\", \"...\"])\n",
    "stop_words.extend(punctuation)\n",
    "wordnet_lematizer = WordNetLemmatizer()\n",
    "\n",
    "def pretreatment(comment):\n",
    "    '''\n",
    "    remove punctuations, numbers and urls\n",
    "    lower case conversion\n",
    "    remove stop words\n",
    "    lemmatization\n",
    "    '''\n",
    "    \n",
    "    token_words = word_tokenize(comment)\n",
    "    token_words = [w.lower() for w in token_words]\n",
    "    token_words = [w for w in token_words if w not in stop_words]\n",
    "    token_words =  pos_tag(token_words) \n",
    "    cleaned_word = []\n",
    "    for word, tag in token_words:\n",
    "        if word.isdigit():\n",
    "            continue\n",
    "        if tag.startswith('NN'):\n",
    "            word_lematizer =  wordnet_lematizer.lemmatize(word, pos='n')  # n for noun\n",
    "        elif tag.startswith('VB'): \n",
    "            word_lematizer =  wordnet_lematizer.lemmatize(word, pos='v')   # v for verb\n",
    "        elif tag.startswith('JJ'): \n",
    "            word_lematizer =  wordnet_lematizer.lemmatize(word, pos='a')   # a for adjective\n",
    "        elif tag.startswith('R'): \n",
    "            word_lematizer =  wordnet_lematizer.lemmatize(word, pos='r')   # r for pronoun\n",
    "        else: \n",
    "            word_lematizer =  wordnet_lematizer.lemmatize(word)\n",
    "        cleaned_word.append(word_lematizer)\n",
    "    \n",
    "    return cleaned_word"
   ]
  },
  {
   "cell_type": "code",
   "execution_count": 13,
   "metadata": {
    "colab": {
     "base_uri": "https://localhost:8080/"
    },
    "id": "4U7KE8jQSZDV",
    "outputId": "c431e3d5-8c73-4d9c-c874-103bcb8e60b5"
   },
   "outputs": [
    {
     "name": "stderr",
     "output_type": "stream",
     "text": [
      "  0%|                                                                                       | 0/115684 [00:00<?, ?it/s]\n"
     ]
    },
    {
     "ename": "LookupError",
     "evalue": "\n**********************************************************************\n  Resource \u001b[93mpunkt\u001b[0m not found.\n  Please use the NLTK Downloader to obtain the resource:\n\n  \u001b[31m>>> import nltk\n  >>> nltk.download('punkt')\n  \u001b[0m\n  For more information see: https://www.nltk.org/data.html\n\n  Attempted to load \u001b[93mtokenizers/punkt/english.pickle\u001b[0m\n\n  Searched in:\n    - 'C:\\\\Users\\\\Lokesh/nltk_data'\n    - 'C:\\\\Users\\\\Lokesh\\\\anaconda3\\\\nltk_data'\n    - 'C:\\\\Users\\\\Lokesh\\\\anaconda3\\\\share\\\\nltk_data'\n    - 'C:\\\\Users\\\\Lokesh\\\\anaconda3\\\\lib\\\\nltk_data'\n    - 'C:\\\\Users\\\\Lokesh\\\\AppData\\\\Roaming\\\\nltk_data'\n    - 'C:\\\\nltk_data'\n    - 'D:\\\\nltk_data'\n    - 'E:\\\\nltk_data'\n    - ''\n**********************************************************************\n",
     "output_type": "error",
     "traceback": [
      "\u001b[1;31m---------------------------------------------------------------------------\u001b[0m",
      "\u001b[1;31mLookupError\u001b[0m                               Traceback (most recent call last)",
      "Cell \u001b[1;32mIn[13], line 10\u001b[0m\n\u001b[0;32m      8\u001b[0m segment \u001b[38;5;241m=\u001b[39m []\n\u001b[0;32m      9\u001b[0m \u001b[38;5;28;01mfor\u001b[39;00m content \u001b[38;5;129;01min\u001b[39;00m tqdm(job_set[\u001b[38;5;124m\"\u001b[39m\u001b[38;5;124mword\u001b[39m\u001b[38;5;124m\"\u001b[39m]\u001b[38;5;241m.\u001b[39mvalues):\n\u001b[1;32m---> 10\u001b[0m     segment\u001b[38;5;241m.\u001b[39mappend(pretreatment(content))\n\u001b[0;32m     12\u001b[0m \u001b[38;5;66;03m# Assign the processed text to a new column\u001b[39;00m\n\u001b[0;32m     13\u001b[0m job_set[\u001b[38;5;124m\"\u001b[39m\u001b[38;5;124mtext\u001b[39m\u001b[38;5;124m\"\u001b[39m] \u001b[38;5;241m=\u001b[39m segment\n",
      "Cell \u001b[1;32mIn[11], line 15\u001b[0m, in \u001b[0;36mpretreatment\u001b[1;34m(comment)\u001b[0m\n\u001b[0;32m      7\u001b[0m \u001b[38;5;28;01mdef\u001b[39;00m \u001b[38;5;21mpretreatment\u001b[39m(comment):\n\u001b[0;32m      8\u001b[0m \u001b[38;5;250m    \u001b[39m\u001b[38;5;124;03m'''\u001b[39;00m\n\u001b[0;32m      9\u001b[0m \u001b[38;5;124;03m    remove punctuations, numbers and urls\u001b[39;00m\n\u001b[0;32m     10\u001b[0m \u001b[38;5;124;03m    lower case conversion\u001b[39;00m\n\u001b[0;32m     11\u001b[0m \u001b[38;5;124;03m    remove stop words\u001b[39;00m\n\u001b[0;32m     12\u001b[0m \u001b[38;5;124;03m    lemmatization\u001b[39;00m\n\u001b[0;32m     13\u001b[0m \u001b[38;5;124;03m    '''\u001b[39;00m\n\u001b[1;32m---> 15\u001b[0m     token_words \u001b[38;5;241m=\u001b[39m word_tokenize(comment)\n\u001b[0;32m     16\u001b[0m     token_words \u001b[38;5;241m=\u001b[39m [w\u001b[38;5;241m.\u001b[39mlower() \u001b[38;5;28;01mfor\u001b[39;00m w \u001b[38;5;129;01min\u001b[39;00m token_words]\n\u001b[0;32m     17\u001b[0m     token_words \u001b[38;5;241m=\u001b[39m [w \u001b[38;5;28;01mfor\u001b[39;00m w \u001b[38;5;129;01min\u001b[39;00m token_words \u001b[38;5;28;01mif\u001b[39;00m w \u001b[38;5;129;01mnot\u001b[39;00m \u001b[38;5;129;01min\u001b[39;00m stop_words]\n",
      "File \u001b[1;32m~\\anaconda3\\Lib\\site-packages\\nltk\\tokenize\\__init__.py:129\u001b[0m, in \u001b[0;36mword_tokenize\u001b[1;34m(text, language, preserve_line)\u001b[0m\n\u001b[0;32m    114\u001b[0m \u001b[38;5;28;01mdef\u001b[39;00m \u001b[38;5;21mword_tokenize\u001b[39m(text, language\u001b[38;5;241m=\u001b[39m\u001b[38;5;124m\"\u001b[39m\u001b[38;5;124menglish\u001b[39m\u001b[38;5;124m\"\u001b[39m, preserve_line\u001b[38;5;241m=\u001b[39m\u001b[38;5;28;01mFalse\u001b[39;00m):\n\u001b[0;32m    115\u001b[0m \u001b[38;5;250m    \u001b[39m\u001b[38;5;124;03m\"\"\"\u001b[39;00m\n\u001b[0;32m    116\u001b[0m \u001b[38;5;124;03m    Return a tokenized copy of *text*,\u001b[39;00m\n\u001b[0;32m    117\u001b[0m \u001b[38;5;124;03m    using NLTK's recommended word tokenizer\u001b[39;00m\n\u001b[1;32m   (...)\u001b[0m\n\u001b[0;32m    127\u001b[0m \u001b[38;5;124;03m    :type preserve_line: bool\u001b[39;00m\n\u001b[0;32m    128\u001b[0m \u001b[38;5;124;03m    \"\"\"\u001b[39;00m\n\u001b[1;32m--> 129\u001b[0m     sentences \u001b[38;5;241m=\u001b[39m [text] \u001b[38;5;28;01mif\u001b[39;00m preserve_line \u001b[38;5;28;01melse\u001b[39;00m sent_tokenize(text, language)\n\u001b[0;32m    130\u001b[0m     \u001b[38;5;28;01mreturn\u001b[39;00m [\n\u001b[0;32m    131\u001b[0m         token \u001b[38;5;28;01mfor\u001b[39;00m sent \u001b[38;5;129;01min\u001b[39;00m sentences \u001b[38;5;28;01mfor\u001b[39;00m token \u001b[38;5;129;01min\u001b[39;00m _treebank_word_tokenizer\u001b[38;5;241m.\u001b[39mtokenize(sent)\n\u001b[0;32m    132\u001b[0m     ]\n",
      "File \u001b[1;32m~\\anaconda3\\Lib\\site-packages\\nltk\\tokenize\\__init__.py:106\u001b[0m, in \u001b[0;36msent_tokenize\u001b[1;34m(text, language)\u001b[0m\n\u001b[0;32m     96\u001b[0m \u001b[38;5;28;01mdef\u001b[39;00m \u001b[38;5;21msent_tokenize\u001b[39m(text, language\u001b[38;5;241m=\u001b[39m\u001b[38;5;124m\"\u001b[39m\u001b[38;5;124menglish\u001b[39m\u001b[38;5;124m\"\u001b[39m):\n\u001b[0;32m     97\u001b[0m \u001b[38;5;250m    \u001b[39m\u001b[38;5;124;03m\"\"\"\u001b[39;00m\n\u001b[0;32m     98\u001b[0m \u001b[38;5;124;03m    Return a sentence-tokenized copy of *text*,\u001b[39;00m\n\u001b[0;32m     99\u001b[0m \u001b[38;5;124;03m    using NLTK's recommended sentence tokenizer\u001b[39;00m\n\u001b[1;32m   (...)\u001b[0m\n\u001b[0;32m    104\u001b[0m \u001b[38;5;124;03m    :param language: the model name in the Punkt corpus\u001b[39;00m\n\u001b[0;32m    105\u001b[0m \u001b[38;5;124;03m    \"\"\"\u001b[39;00m\n\u001b[1;32m--> 106\u001b[0m     tokenizer \u001b[38;5;241m=\u001b[39m load(\u001b[38;5;124mf\u001b[39m\u001b[38;5;124m\"\u001b[39m\u001b[38;5;124mtokenizers/punkt/\u001b[39m\u001b[38;5;132;01m{\u001b[39;00mlanguage\u001b[38;5;132;01m}\u001b[39;00m\u001b[38;5;124m.pickle\u001b[39m\u001b[38;5;124m\"\u001b[39m)\n\u001b[0;32m    107\u001b[0m     \u001b[38;5;28;01mreturn\u001b[39;00m tokenizer\u001b[38;5;241m.\u001b[39mtokenize(text)\n",
      "File \u001b[1;32m~\\anaconda3\\Lib\\site-packages\\nltk\\data.py:750\u001b[0m, in \u001b[0;36mload\u001b[1;34m(resource_url, format, cache, verbose, logic_parser, fstruct_reader, encoding)\u001b[0m\n\u001b[0;32m    747\u001b[0m     \u001b[38;5;28mprint\u001b[39m(\u001b[38;5;124mf\u001b[39m\u001b[38;5;124m\"\u001b[39m\u001b[38;5;124m<<Loading \u001b[39m\u001b[38;5;132;01m{\u001b[39;00mresource_url\u001b[38;5;132;01m}\u001b[39;00m\u001b[38;5;124m>>\u001b[39m\u001b[38;5;124m\"\u001b[39m)\n\u001b[0;32m    749\u001b[0m \u001b[38;5;66;03m# Load the resource.\u001b[39;00m\n\u001b[1;32m--> 750\u001b[0m opened_resource \u001b[38;5;241m=\u001b[39m _open(resource_url)\n\u001b[0;32m    752\u001b[0m \u001b[38;5;28;01mif\u001b[39;00m \u001b[38;5;28mformat\u001b[39m \u001b[38;5;241m==\u001b[39m \u001b[38;5;124m\"\u001b[39m\u001b[38;5;124mraw\u001b[39m\u001b[38;5;124m\"\u001b[39m:\n\u001b[0;32m    753\u001b[0m     resource_val \u001b[38;5;241m=\u001b[39m opened_resource\u001b[38;5;241m.\u001b[39mread()\n",
      "File \u001b[1;32m~\\anaconda3\\Lib\\site-packages\\nltk\\data.py:876\u001b[0m, in \u001b[0;36m_open\u001b[1;34m(resource_url)\u001b[0m\n\u001b[0;32m    873\u001b[0m protocol, path_ \u001b[38;5;241m=\u001b[39m split_resource_url(resource_url)\n\u001b[0;32m    875\u001b[0m \u001b[38;5;28;01mif\u001b[39;00m protocol \u001b[38;5;129;01mis\u001b[39;00m \u001b[38;5;28;01mNone\u001b[39;00m \u001b[38;5;129;01mor\u001b[39;00m protocol\u001b[38;5;241m.\u001b[39mlower() \u001b[38;5;241m==\u001b[39m \u001b[38;5;124m\"\u001b[39m\u001b[38;5;124mnltk\u001b[39m\u001b[38;5;124m\"\u001b[39m:\n\u001b[1;32m--> 876\u001b[0m     \u001b[38;5;28;01mreturn\u001b[39;00m find(path_, path \u001b[38;5;241m+\u001b[39m [\u001b[38;5;124m\"\u001b[39m\u001b[38;5;124m\"\u001b[39m])\u001b[38;5;241m.\u001b[39mopen()\n\u001b[0;32m    877\u001b[0m \u001b[38;5;28;01melif\u001b[39;00m protocol\u001b[38;5;241m.\u001b[39mlower() \u001b[38;5;241m==\u001b[39m \u001b[38;5;124m\"\u001b[39m\u001b[38;5;124mfile\u001b[39m\u001b[38;5;124m\"\u001b[39m:\n\u001b[0;32m    878\u001b[0m     \u001b[38;5;66;03m# urllib might not use mode='rb', so handle this one ourselves:\u001b[39;00m\n\u001b[0;32m    879\u001b[0m     \u001b[38;5;28;01mreturn\u001b[39;00m find(path_, [\u001b[38;5;124m\"\u001b[39m\u001b[38;5;124m\"\u001b[39m])\u001b[38;5;241m.\u001b[39mopen()\n",
      "File \u001b[1;32m~\\anaconda3\\Lib\\site-packages\\nltk\\data.py:583\u001b[0m, in \u001b[0;36mfind\u001b[1;34m(resource_name, paths)\u001b[0m\n\u001b[0;32m    581\u001b[0m sep \u001b[38;5;241m=\u001b[39m \u001b[38;5;124m\"\u001b[39m\u001b[38;5;124m*\u001b[39m\u001b[38;5;124m\"\u001b[39m \u001b[38;5;241m*\u001b[39m \u001b[38;5;241m70\u001b[39m\n\u001b[0;32m    582\u001b[0m resource_not_found \u001b[38;5;241m=\u001b[39m \u001b[38;5;124mf\u001b[39m\u001b[38;5;124m\"\u001b[39m\u001b[38;5;130;01m\\n\u001b[39;00m\u001b[38;5;132;01m{\u001b[39;00msep\u001b[38;5;132;01m}\u001b[39;00m\u001b[38;5;130;01m\\n\u001b[39;00m\u001b[38;5;132;01m{\u001b[39;00mmsg\u001b[38;5;132;01m}\u001b[39;00m\u001b[38;5;130;01m\\n\u001b[39;00m\u001b[38;5;132;01m{\u001b[39;00msep\u001b[38;5;132;01m}\u001b[39;00m\u001b[38;5;130;01m\\n\u001b[39;00m\u001b[38;5;124m\"\u001b[39m\n\u001b[1;32m--> 583\u001b[0m \u001b[38;5;28;01mraise\u001b[39;00m \u001b[38;5;167;01mLookupError\u001b[39;00m(resource_not_found)\n",
      "\u001b[1;31mLookupError\u001b[0m: \n**********************************************************************\n  Resource \u001b[93mpunkt\u001b[0m not found.\n  Please use the NLTK Downloader to obtain the resource:\n\n  \u001b[31m>>> import nltk\n  >>> nltk.download('punkt')\n  \u001b[0m\n  For more information see: https://www.nltk.org/data.html\n\n  Attempted to load \u001b[93mtokenizers/punkt/english.pickle\u001b[0m\n\n  Searched in:\n    - 'C:\\\\Users\\\\Lokesh/nltk_data'\n    - 'C:\\\\Users\\\\Lokesh\\\\anaconda3\\\\nltk_data'\n    - 'C:\\\\Users\\\\Lokesh\\\\anaconda3\\\\share\\\\nltk_data'\n    - 'C:\\\\Users\\\\Lokesh\\\\anaconda3\\\\lib\\\\nltk_data'\n    - 'C:\\\\Users\\\\Lokesh\\\\AppData\\\\Roaming\\\\nltk_data'\n    - 'C:\\\\nltk_data'\n    - 'D:\\\\nltk_data'\n    - 'E:\\\\nltk_data'\n    - ''\n**********************************************************************\n"
     ]
    }
   ],
   "source": [
    "# Fill missing values with empty strings\n",
    "job_set = job_set.fillna(\"\")\n",
    "\n",
    "# Concatenate relevant fields\n",
    "job_set[\"word\"] = job_set[\"Title\"] + \" \" + job_set[\"Description\"] + \" \" + job_set[\"Requirements\"]\n",
    "\n",
    "# Apply pretreatment function to each row\n",
    "segment = []\n",
    "for content in tqdm(job_set[\"word\"].values):\n",
    "    segment.append(pretreatment(content))\n",
    "\n",
    "# Assign the processed text to a new column\n",
    "job_set[\"text\"] = segment\n",
    "\n",
    "# Check the first few rows to ensure everything looks correct\n",
    "print(job_set.head())\n"
   ]
  },
  {
   "cell_type": "code",
   "execution_count": null,
   "metadata": {
    "id": "ZBsBH8QQT_1N"
   },
   "outputs": [],
   "source": [
    "job_set.to_csv(\"job_set_segment.csv\",index=False)"
   ]
  },
  {
   "cell_type": "markdown",
   "metadata": {
    "id": "4_vUcwZfw5aT"
   },
   "source": [
    "# 2. Train a Word2Vec model based on our data"
   ]
  },
  {
   "cell_type": "code",
   "execution_count": null,
   "metadata": {
    "id": "gnyYUff3UNOo"
   },
   "outputs": [],
   "source": [
    "from gensim.models import word2vec, Word2Vec\n",
    "\n",
    "def train_word2vec(x):\n",
    "    '''\n",
    "    param: x is a list contain all the words\n",
    "    return: the trained model\n",
    "    '''\n",
    "    \n",
    "    model = word2vec.Word2Vec(x, size=200, window=5, min_count=2, workers=8, \n",
    "                             iter=10, sg=1)\n",
    "    return model"
   ]
  },
  {
   "cell_type": "code",
   "execution_count": null,
   "metadata": {
    "id": "OvOJmBPhhgkD"
   },
   "outputs": [],
   "source": [
    "# 20-30min\n",
    "w2v_model = train_word2vec(job_set.text.values)\n",
    "w2v_model.save('./word2vec.model')"
   ]
  },
  {
   "cell_type": "code",
   "execution_count": null,
   "metadata": {
    "id": "BCVEY-NzRIfU"
   },
   "outputs": [],
   "source": [
    "w2v_model = Word2Vec.load('./word2vec.model')"
   ]
  },
  {
   "cell_type": "code",
   "execution_count": null,
   "metadata": {
    "id": "-L5tzTj-ySSO"
   },
   "outputs": [],
   "source": [
    "# TF-IDF vectors for user job history\n",
    "word_history_tf = TfidfVectorizer(analyzer='word',ngram_range=(1, 2),min_df=0, max_features=50, stop_words='english')\n",
    "word_history_tf_matrix = word_history_tf.fit_transform(work_history.groupby(\"UserID\").JobTitle.sum().values)"
   ]
  },
  {
   "cell_type": "markdown",
   "metadata": {
    "id": "Uu9dJDaIxCGP"
   },
   "source": [
    "# 3. Define a class for preprocessing"
   ]
  },
  {
   "cell_type": "code",
   "execution_count": null,
   "metadata": {
    "id": "t1bFPPG3iKGN"
   },
   "outputs": [],
   "source": [
    "class Preprocess():\n",
    "    def __init__(self, sentences, sen_len, w2v_path=\"./w2v.model\"):\n",
    "        '''\n",
    "        param: sentences: the list of corpus\n",
    "               sen_len: the max length of each sentence\n",
    "               w2v_path: the path storing word emnbedding model \n",
    "        '''\n",
    "        \n",
    "        self.w2v_path = w2v_path\n",
    "        self.sentences = sentences\n",
    "        self.sen_len = sen_len\n",
    "        self.idx2word = []\n",
    "        self.word2idx = {}\n",
    "        self.embedding_matrix = []\n",
    "        \n",
    "    def get_w2v_model(self):\n",
    "        self.embedding = Word2Vec.load(self.w2v_path)\n",
    "        self.embedding_dim = self.embedding.vector_size\n",
    "        \n",
    "    def add_embedding(self, word):\n",
    "        vector = torch.empty(1, self.embedding_dim)\n",
    "        torch.nn.init.uniform_(vector)\n",
    "        self.word2idx[word] = len(self.word2idx)\n",
    "        self.idx2word.append(word)\n",
    "        self.embedding_matrix = torch.cat([self.embedding_matrix, vector], 0)\n",
    "        \n",
    "    def make_embedding(self, load=True):\n",
    "        print(\"Get embedding ...\")\n",
    "        if load:\n",
    "            print(\"loading word2vec model ...\")\n",
    "            self.get_w2v_model()\n",
    "        else:\n",
    "            raise NotImplementedError\n",
    "        for i, word in enumerate(self.embedding.wv.vocab):\n",
    "            self.word2idx[word] = len(self.word2idx)\n",
    "            self.idx2word.append(word)\n",
    "            self.embedding_matrix.append(self.embedding[word])\n",
    "        self.embedding_matrix = torch.tensor(self.embedding_matrix)\n",
    "        self.add_embedding(\"<PAD>\")\n",
    "        self.add_embedding(\"<UNK>\")\n",
    "        print(\"total words: {}\".format(len(self.embedding_matrix)))\n",
    "        return self.embedding_matrix\n",
    "    \n",
    "    def pad_sentence(self, sentence):\n",
    "        if len(sentence) > self.sen_len:\n",
    "            sentence = sentence[:self.sen_len]\n",
    "        else:\n",
    "            pad_len = self.sen_len - len(sentence)\n",
    "            for _ in range(pad_len):\n",
    "                sentence.append(self.word2idx['<PAD>'])\n",
    "        assert len(sentence) == self.sen_len\n",
    "        return sentence\n",
    "    \n",
    "    def sentence_word2idx(self):\n",
    "        '''\n",
    "        change words in sentences into idx in embedding_matrix\n",
    "        '''\n",
    "        sentence_list = []\n",
    "        for i, sen in enumerate(self.sentences):\n",
    "            sentence_idx = []\n",
    "            for word in sen:\n",
    "                if (word in self.word2idx.keys()):\n",
    "                    sentence_idx.append(self.word2idx[word])\n",
    "                else:\n",
    "                    sentence_idx.append(self.word2idx['<UNK>'])\n",
    "            sentence_idx = self.pad_sentence(sentence_idx)\n",
    "            sentence_list.append(sentence_idx)\n",
    "        return torch.LongTensor(sentence_list)\n",
    "    \n",
    "    def labels_to_tensor(self, y):\n",
    "        return torch.LongTensor(y)"
   ]
  },
  {
   "cell_type": "markdown",
   "metadata": {
    "id": "njpTVxNpxHsr"
   },
   "source": [
    "# 4. Define the dataset and the architecture of the model"
   ]
  },
  {
   "cell_type": "code",
   "execution_count": null,
   "metadata": {
    "id": "4cCASuVaunAM"
   },
   "outputs": [],
   "source": [
    "class TextCNN(nn.Module):\n",
    "    def __init__(self, channels, kernel_size, pool_size, dim, method='max'):\n",
    "        super(TextCNN, self).__init__()\n",
    "        self.net1 = nn.Sequential(\n",
    "            nn.Conv2d(1, channels, kernel_size[0]),\n",
    "            nn.BatchNorm2d(channels),\n",
    "            nn.ReLU(),\n",
    "            nn.MaxPool2d(pool_size)\n",
    "        )\n",
    "        self.net2 = nn.Sequential(\n",
    "            nn.Conv2d(channels, channels, kernel_size[1]),\n",
    "            nn.BatchNorm2d(channels),\n",
    "            nn.ReLU(),\n",
    "            nn.AdaptiveMaxPool2d((1, dim))\n",
    "        )\n",
    "        if method is 'max':\n",
    "            self.pool = nn.AdaptiveMaxPool2d((1, dim))\n",
    "        elif method is 'mean':\n",
    "            self.pool = nn.AdaptiveAvgPool2d((1, dim))\n",
    "        else:\n",
    "            raise ValueError('method {} not exist'.format(method))\n",
    "\n",
    "    def forward(self, x):\n",
    "        x = self.net1(x)\n",
    "        x = self.net2(x).squeeze(2)\n",
    "        x = self.pool(x).squeeze(1)\n",
    "        return x"
   ]
  },
  {
   "cell_type": "code",
   "execution_count": null,
   "metadata": {
    "id": "eBfv-jyOwPvf"
   },
   "outputs": [],
   "source": [
    "class MLP(nn.Module):\n",
    "    def __init__(self, input_size, output_size, dropout):\n",
    "        super(MLP, self).__init__()\n",
    "        self.net = nn.Sequential(\n",
    "            nn.Dropout(dropout),\n",
    "            nn.Linear(input_size, input_size),\n",
    "            nn.ReLU(),\n",
    "            nn.Linear(input_size, output_size),\n",
    "            nn.Sigmoid()\n",
    "            \n",
    "        )\n",
    "\n",
    "    def forward(self, x):\n",
    "        x = self.net(x)\n",
    "        return x"
   ]
  },
  {
   "cell_type": "code",
   "execution_count": null,
   "metadata": {
    "id": "sZyNP5kUwR9e"
   },
   "outputs": [],
   "source": [
    "class PJFNN(nn.Module):\n",
    "    def __init__(self, embedding, input_dim, channels=1, dropout=0.5, fix_embedding=True):\n",
    "        super(PJFNN, self).__init__()\n",
    "        self.dim = embedding.size(1)\n",
    "        self.user_dim = input_dim\n",
    "        self.channels = channels\n",
    "        self.embedding = nn.Embedding(embedding.size(0), embedding.size(1))\n",
    "        self.embedding.weight = nn.Parameter(embedding)\n",
    "        self.embedding.weight.requires_grad = False if fix_embedding else True\n",
    "        # self.emb = nn.Embedding.from_pretrained(\n",
    "        #    torch.from_numpy(np.load( os.path.join(args['dataset']['path'], 'emb.npy') )),\n",
    "        #    freeze=False,\n",
    "        #    padding_idx=0\n",
    "        #)\n",
    "\n",
    "        # self.geek_layer = TextCNN(\n",
    "        #     channels=args['dataset']['max_sent_num']['geek'],\n",
    "        #     kernel_size=[(5, 1), (3, 1)],\n",
    "        #     pool_size=(2, 1),\n",
    "        #     dim=dim,\n",
    "        #     method='max'\n",
    "        # )\n",
    "        self.user_layer = MLP(self.user_dim , 64, dropout=dropout)\n",
    "        self.linear_transform = nn.Linear(200, 64)\n",
    "        self.job_layer = TextCNN(\n",
    "            channels=self.channels,\n",
    "            kernel_size=[(5, 1), (5, 1)],\n",
    "            pool_size=(2, 1),\n",
    "            dim=200,\n",
    "            method='mean'\n",
    "        )\n",
    "\n",
    "        self.mlp = MLP(\n",
    "            input_size=128,\n",
    "            output_size=1,\n",
    "            dropout=dropout\n",
    "        )\n",
    "\n",
    "\n",
    "    def forward(self, job, user):\n",
    "        job = self.embedding(job)\n",
    "        job = job.unsqueeze(1)\n",
    "        job = self.job_layer(job)\n",
    "        user = self.user_layer(user)\n",
    "        job = self.linear_transform(job)\n",
    "        x = torch.cat((user,job),dim=1)\n",
    "        x = self.mlp(x).squeeze(1)\n",
    "        return x"
   ]
  },
  {
   "cell_type": "code",
   "execution_count": null,
   "metadata": {
    "id": "eK5IqhaaTnaO"
   },
   "outputs": [],
   "source": [
    "class PJFNN_LSTM(nn.Module):\n",
    "    def __init__(self, embedding, input_dim, hidden_dim=256, num_layers=1, dropout=0., fix_embedding=True):\n",
    "        super(PJFNN_LSTM, self).__init__()\n",
    "        self.embedding_dim = embedding.size(1)\n",
    "        self.user_dim = input_dim\n",
    "        self.embedding = nn.Embedding(embedding.size(0), embedding.size(1))\n",
    "        self.embedding.weight = nn.Parameter(embedding)\n",
    "        self.embedding.weight.requires_grad = False if fix_embedding else True\n",
    "        # self.emb = nn.Embedding.from_pretrained(\n",
    "        #    torch.from_numpy(np.load( os.path.join(args['dataset']['path'], 'emb.npy') )),\n",
    "        #    freeze=False,\n",
    "        #    padding_idx=0\n",
    "        #)\n",
    "\n",
    "        # self.geek_layer = TextCNN(\n",
    "        #     channels=args['dataset']['max_sent_num']['geek'],\n",
    "        #     kernel_size=[(5, 1), (3, 1)],\n",
    "        #     pool_size=(2, 1),\n",
    "        #     dim=dim,\n",
    "        #     method='max'\n",
    "        # )\n",
    "        self.user_layer = MLP(self.user_dim , 64, dropout=dropout)\n",
    "        self.linear_transform = nn.Linear(256, 64)\n",
    "        self.job_layer = nn.LSTM(self.embedding_dim, hidden_dim, num_layers=num_layers, batch_first=True, dropout=dropout)\n",
    "\n",
    "        self.classifier = nn.Sequential(nn.Dropout(dropout), nn.Linear(128, 1), nn.Sigmoid())\n",
    "\n",
    "\n",
    "    def forward(self, job, user):\n",
    "        job = self.embedding(job)\n",
    "        job, _ = self.job_layer(job, None)\n",
    "        job = job[:,-1,:]\n",
    "        user = self.user_layer(user)\n",
    "        job = self.linear_transform(job)\n",
    "        x = torch.cat((user,job),dim=1)\n",
    "        x = self.classifier(x).squeeze(1)\n",
    "        return x"
   ]
  },
  {
   "cell_type": "code",
   "execution_count": null,
   "metadata": {
    "id": "R2lPgsfRsOg2"
   },
   "outputs": [],
   "source": [
    "class JobUserDataset(data.Dataset):\n",
    "    '''\n",
    "    Expected data shape like:(data_num, data_len)\n",
    "    '''\n",
    "    def __init__(self, job, user, label):\n",
    "        self.job = job\n",
    "        self.user = user\n",
    "        self.label = label\n",
    "        \n",
    "    def __getitem__(self, idx):\n",
    "        if self.label is None: return self.job[idx], self.user[idx]\n",
    "        return self.job[idx], self.user[idx], self.label[idx]\n",
    "    \n",
    "    def __len__(self):\n",
    "        return len(self.job)"
   ]
  },
  {
   "cell_type": "markdown",
   "metadata": {
    "id": "YkYS1VOvy5gg"
   },
   "source": [
    "# 5. Build datasets"
   ]
  },
  {
   "cell_type": "code",
   "execution_count": null,
   "metadata": {
    "id": "juXrNmCn8tBc"
   },
   "outputs": [],
   "source": [
    "train_user = user_set[user_set.Split==\"Train\"].UserID.values\n",
    "test_user = user_set[user_set.Split==\"Test\"].UserID.values\n",
    "train_data = dataset[dataset.UserID.isin(train_user)]\n",
    "test_data = dataset[dataset.UserID.isin(test_user)]"
   ]
  },
  {
   "cell_type": "code",
   "execution_count": null,
   "metadata": {
    "id": "PVST2HalS_G7"
   },
   "outputs": [],
   "source": [
    "job_set = pd.read_csv(\"job_set_segment.csv\")\n",
    "text = []\n",
    "for i in job_set.text:\n",
    "    temp = i[1:-1].split(',')\n",
    "    text.append([t.strip()[1:-1] for t in temp])\n",
    "job_set[\"text\"] = text"
   ]
  },
  {
   "cell_type": "code",
   "execution_count": null,
   "metadata": {
    "colab": {
     "base_uri": "https://localhost:8080/"
    },
    "id": "FnWsr9eSwclW",
    "outputId": "7fc764e2-203d-404e-92bc-5bc264a472cd"
   },
   "outputs": [],
   "source": [
    "groups = train_data.groupby(\"UserID\")\n",
    "job_train = []\n",
    "user_train = np.zeros((1,58))\n",
    "Y_train = []\n",
    "for u_id, group in tqdm(groups):\n",
    "    user = user_set[user_set.UserID==u_id][[\"DegreeType\", \"WorkHistoryCount\", \"TotalYearsExperience\", \"CurrentlyEmployed\", \n",
    "                                            \"ManagedOthers\", \"ManagedHowMany\"]]\n",
    "    u_idx = user.index.values[0]\n",
    "    user_feature = np.concatenate((user.values, word_history_tf_matrix[u_idx,:].toarray()),axis=1)\n",
    "    job_id_list = group.JobID.values\n",
    "    jobs = job_set[job_set.JobID.isin(job_id_list)]\n",
    "    job_train.extend(jobs.text.values.tolist())\n",
    "    user_feature = user_feature.repeat(len(jobs),axis=0)\n",
    "    user_feature = np.concatenate((user_feature,group[[\"State\",\"City\"]].values),axis=1)\n",
    "    user_train = np.concatenate((user_train,user_feature), axis=0)\n",
    "    Y_train.extend(group.label.values.tolist())"
   ]
  },
  {
   "cell_type": "code",
   "execution_count": null,
   "metadata": {
    "colab": {
     "base_uri": "https://localhost:8080/"
    },
    "id": "rAyh-0ik8pDN",
    "outputId": "07720b2e-1a03-4320-e372-60ee750b9af3"
   },
   "outputs": [],
   "source": [
    "groups = test_data.groupby(\"UserID\")\n",
    "job_test = []\n",
    "user_test = np.zeros((1,58))\n",
    "Y_test = []\n",
    "for u_id, group in tqdm(groups):\n",
    "    user = user_set[user_set.UserID==u_id][[\"DegreeType\", \"WorkHistoryCount\", \"TotalYearsExperience\", \"CurrentlyEmployed\", \n",
    "                                            \"ManagedOthers\", \"ManagedHowMany\"]]\n",
    "    u_idx = user.index.values[0]\n",
    "    user_feature = np.concatenate((user.values, word_history_tf_matrix[u_idx,:].toarray()),axis=1)\n",
    "    job_id_list = group.JobID.values\n",
    "    jobs = job_set[job_set.JobID.isin(job_id_list)]\n",
    "    job_test.extend(jobs.text.values.tolist())\n",
    "    user_feature = user_feature.repeat(len(jobs),axis=0)\n",
    "    user_feature = np.concatenate((user_feature,group[[\"State\",\"City\"]].values),axis=1)\n",
    "    user_test = np.concatenate((user_test,user_feature), axis=0)\n",
    "    Y_test.extend(group.label.values.tolist())"
   ]
  },
  {
   "cell_type": "code",
   "execution_count": null,
   "metadata": {
    "colab": {
     "base_uri": "https://localhost:8080/"
    },
    "id": "3xnN7Uea86VC",
    "outputId": "b817bc76-45c1-4b06-8de4-28bcfa8aa1b6"
   },
   "outputs": [],
   "source": [
    "train_len = len(job_train)\n",
    "job_train.extend(job_test)\n",
    "Y_train.extend(Y_test)\n",
    "sen_len = 200\n",
    "preprocess = Preprocess(job_train, sen_len, w2v_path=\"word2vec.model\")\n",
    "embedding = preprocess.make_embedding(load=True)\n",
    "x = preprocess.sentence_word2idx()\n",
    "y = preprocess.labels_to_tensor(Y_train)\n",
    "torch.save(embedding,\"./embedding.pt\")"
   ]
  },
  {
   "cell_type": "code",
   "execution_count": null,
   "metadata": {
    "id": "tdDqQo6K89Rt"
   },
   "outputs": [],
   "source": [
    "train_x = x[:70000]\n",
    "train_y = y[:70000]\n",
    "val_x = x[70000:70680]\n",
    "val_y = y[70000:70680]\n",
    "test_x = x[70680:]\n",
    "test_y = y[70680:]\n",
    "train_user = torch.from_numpy(user_train[1:70001])\n",
    "val_user = torch.from_numpy(user_train[70001:])\n",
    "test_user = torch.from_numpy(user_test[1:])\n",
    "train_dataset = JobUserDataset(train_x, train_user, train_y)\n",
    "val_dataset = JobUserDataset(val_x, val_user, val_y)\n",
    "test_dataset = JobUserDataset(test_x, test_user, test_y)\n",
    "# torch.save(train_dataset,\"train.dataset\")\n",
    "# torch.save(val_dataset,\"val.dataset\")\n",
    "# torch.save(test_dataset, \"test.dataset\")"
   ]
  },
  {
   "cell_type": "code",
   "execution_count": null,
   "metadata": {
    "id": "PJiMznRajC-a"
   },
   "outputs": [],
   "source": [
    "# train_dataset = torch.load(\"train.dataset\")\n",
    "# val_dataset = torch.load(\"val.dataset\")\n",
    "# test_dataset = torch.load(\"test.dataset\")\n",
    "# embedding = torch.load(\"embedding.pt\")\n",
    "batch_size = 32\n",
    "train_loader = DataLoader(dataset= train_dataset, batch_size = batch_size, shuffle = False)\n",
    "val_loader = DataLoader(dataset = val_dataset, batch_size = batch_size, shuffle = False)\n",
    "test_loader =DataLoader(dataset = test_dataset, batch_size = batch_size, shuffle = False)"
   ]
  },
  {
   "cell_type": "markdown",
   "metadata": {
    "id": "_6I9T0CLTsdr"
   },
   "source": [
    "# 6. Define functions for training and testing"
   ]
  },
  {
   "cell_type": "code",
   "execution_count": null,
   "metadata": {
    "id": "aJ9PutF6Q3PL"
   },
   "outputs": [],
   "source": [
    "def training(batch_size, n_epoch, lr, train, valid, model, device, model_name, model_dir=\"./\"):\n",
    "    # summary model parameters\n",
    "    total = sum(p.numel() for p in model.parameters())\n",
    "    trainable = sum(p.numel() for p in model.parameters() if p.requires_grad)\n",
    "    \n",
    "    print(\"\\nstart training, total parameter:{}, trainable:{}\\n\".format(total, trainable))\n",
    "    model.cuda()\n",
    "    model.train()\n",
    "    criterion = nn.BCELoss()\n",
    "    t_batch = len(train)\n",
    "    v_batch = len(valid)\n",
    "    optimizer = optim.Adam(model.parameters(), lr=lr)\n",
    "    total_loss, total_acc, best_acc = 0, 0, 0\n",
    "    train_losses, val_losses = [], []\n",
    "    train_acc, val_acc = [], []\n",
    "    pred_label = []\n",
    "    y_label = []\n",
    "    \n",
    "    for epoch in range(n_epoch):\n",
    "        start_time = time.time()\n",
    "        total_loss, total_acc = 0, 0\n",
    "        # training\n",
    "        for i, (jobs, users, labels) in enumerate(train):\n",
    "            jobs = jobs.to(device)\n",
    "            users = users.to(torch.float32)\n",
    "            users = users.to(device)\n",
    "            labels = labels.to(device)\n",
    "            labels = labels.to(torch.float32)\n",
    "            model.zero_grad()\n",
    "            outputs = model(jobs, users)\n",
    "            loss = criterion(outputs, labels)\n",
    "            loss.backward()\n",
    "            optimizer.step()\n",
    "            total_loss += loss.item()\n",
    "            pred_label.extend([0 if i<0.5 else 1 for i in list(outputs.cpu().detach().numpy())])\n",
    "            y_label.extend(list(labels.cpu().detach().numpy()))\n",
    "        train_losses.append(total_loss/t_batch)\n",
    "        train_acc.append(accuracy_score(y_label, pred_label))\n",
    "        print('[ Epoch{}: {}/{}] '.format(\n",
    "                epoch+1, i+1, t_batch)) \n",
    "        print('\\nTrain | Loss:{:.5f} Time:{:.6f}'.format(total_loss/t_batch, time.time()-start_time))\n",
    "        \n",
    "        # evaluation\n",
    "        model.eval()\n",
    "        with torch.no_grad():\n",
    "            pred_label = []\n",
    "            y_label = []\n",
    "            total_loss, total_acc = 0, 0\n",
    "            for i, (jobs, users, labels) in enumerate(valid):\n",
    "                jobs = jobs.to(device)\n",
    "                users = users.to(torch.float32)\n",
    "                users = users.to(device)\n",
    "                labels = labels.to(torch.float32)\n",
    "                labels = labels.to(device)\n",
    "                outputs = model(jobs, users)\n",
    "                loss = criterion(outputs, labels)\n",
    "                total_loss += loss.item()\n",
    "                pred_label.extend([0 if i<0.5 else 1 for i in list(outputs.cpu().detach().numpy())])\n",
    "                y_label.extend(list(labels.cpu().detach().numpy()))\n",
    "            # print('\\nVal | Loss:{:.5f} Time:{:.6f}'.format(total_loss/v_batch, time.time()-start_time))\n",
    "            val_losses.append(total_loss/v_batch)\n",
    "            total_acc =  accuracy_score(y_label, pred_label)\n",
    "            val_acc.append(total_acc)\n",
    "            print('\\nVal | ACC:{:.5f} Time:{:.6f}'.format(total_acc, time.time()-start_time))\n",
    "            if total_acc > best_acc:\n",
    "                best_acc = total_acc\n",
    "                torch.save(model, \"{}/{}_ckpt.model\".format(model_dir, model_name))\n",
    "                print('save model with acc {:.3f}'.format(total_acc))\n",
    "        print('------------------------------------------------------')\n",
    "        model.train()\n",
    "    return train_losses, val_losses, train_acc, val_acc"
   ]
  },
  {
   "cell_type": "code",
   "execution_count": null,
   "metadata": {
    "id": "08GXGRLjXtZp"
   },
   "outputs": [],
   "source": [
    "def test(model, loader):\n",
    "    predictions = []\n",
    "    y_labels = []\n",
    "    pred = []\n",
    "    model.eval()\n",
    "    for i, (jobs, users, labels) in enumerate(loader):\n",
    "        jobs = jobs.to(device)\n",
    "        users = users.to(device, dtype=torch.float32)\n",
    "        labels = labels.to(device, dtype=torch.float32)\n",
    "        outputs = model(jobs, users)\n",
    "        pred.extend(list(outputs.cpu().detach().numpy()))\n",
    "        predictions.extend([0 if i<0.5 else 1 for i in list(outputs.cpu().detach().numpy())])\n",
    "        y_labels.extend(list(labels.cpu().detach().numpy()))\n",
    "        report = classification_report(y_labels,predictions,digits=4)\n",
    "    report = report.splitlines()\n",
    "    columns = ['class'] + report[0].split()\n",
    "    col_1, col_2, col_3, col_4, col_5 = [], [], [], [], []\n",
    "    for row in report[1:]:\n",
    "        if len(row.split()) != 0:\n",
    "            row = row.split()\n",
    "            if len(row) < 5:\n",
    "                col_1.append(row[0])\n",
    "                col_2.append('')\n",
    "                col_3.append('')\n",
    "                col_4.append(row[1])\n",
    "                col_5.append(row[2])\n",
    "            elif len(row) > 5:\n",
    "                col_1.append(row[0] + ' ' + row[1])\n",
    "                col_2.append(row[2])\n",
    "                col_3.append(row[3])\n",
    "                col_4.append(row[4])\n",
    "                col_5.append(row[5])\n",
    "            else:\n",
    "                col_1.append(row[0])\n",
    "                col_2.append(row[1])\n",
    "                col_3.append(row[2])\n",
    "                col_4.append(row[3])\n",
    "                col_5.append(row[4])\n",
    "    result = pd.DataFrame()\n",
    "    col_1.append(\"overall\")\n",
    "    col_2.append(precision_score(y_labels, predictions))\n",
    "    col_3.append(recall_score(y_labels, predictions))\n",
    "    col_4.append(f1_score(y_labels, predictions))\n",
    "    col_5.append(roc_auc_score(y_labels, pred))\n",
    "    result[columns[0]] = col_1\n",
    "    result[columns[1]] = col_2\n",
    "    result[columns[2]] = col_3\n",
    "    result[columns[3]] = col_4\n",
    "    result[columns[4]] = col_5\n",
    "    print(\"——————Test——————\")\n",
    "#     print(result)\n",
    "    return result"
   ]
  },
  {
   "cell_type": "markdown",
   "metadata": {
    "id": "8_g-0ehnWqgR"
   },
   "source": [
    "# 7. Train and test the Text-CNN model"
   ]
  },
  {
   "cell_type": "code",
   "execution_count": null,
   "metadata": {
    "id": "nDOF_CPFHt5B"
   },
   "outputs": [],
   "source": [
    "fix_embedding = False\n",
    "input_dim = train_dataset[0][1].shape[0]\n",
    "model = PJFNN(embedding, input_dim, dropout=0.7, channels=32, fix_embedding=fix_embedding)\n",
    "# model "
   ]
  },
  {
   "cell_type": "code",
   "execution_count": null,
   "metadata": {
    "id": "0MYuDJ9eXgcZ"
   },
   "outputs": [],
   "source": [
    "epoch = 10\n",
    "lr =  0.0005\n",
    "model_dir = './'\n",
    "device = torch.device(\"cuda\" if torch.cuda.is_available() else \"cpu\")\n",
    "\n",
    "train_losses, val_losses, train_acc, val_acc = training(batch_size, epoch, lr, train_loader, val_loader, model, device, \"textCNN\",  model_dir )"
   ]
  },
  {
   "cell_type": "code",
   "execution_count": null,
   "metadata": {
    "colab": {
     "base_uri": "https://localhost:8080/",
     "height": 252
    },
    "id": "HuYnxMIGZ2kF",
    "outputId": "2e079ce0-c3f0-4033-94f0-b1183ce2b9a1"
   },
   "outputs": [],
   "source": [
    "test(torch.load(\"textCNN_ckpt.model\"), test_loader)"
   ]
  },
  {
   "cell_type": "markdown",
   "metadata": {
    "id": "I9_cRERmSRNp"
   },
   "source": [
    "# 8. TopN recommendation"
   ]
  },
  {
   "cell_type": "code",
   "execution_count": null,
   "metadata": {
    "colab": {
     "base_uri": "https://localhost:8080/"
    },
    "id": "IhtI4tjVTOZz",
    "outputId": "bf52ed4d-1d76-47dc-df7b-f9dadb1eef85"
   },
   "outputs": [],
   "source": [
    "ranking_data = pd.read_csv(\"ranking_data.csv\")\n",
    "groups = ranking_data.groupby(\"UserID\")\n",
    "job_rank = []\n",
    "user_rank = np.zeros((1,58))\n",
    "for u_id, group in tqdm(groups):\n",
    "    user = user_set[user_set.UserID==u_id][[\"DegreeType\", \"WorkHistoryCount\", \"TotalYearsExperience\", \"CurrentlyEmployed\", \n",
    "                                            \"ManagedOthers\", \"ManagedHowMany\"]]\n",
    "    u_idx = user.index.values[0]\n",
    "    user_feature = np.concatenate((user.values, word_history_tf_matrix[u_idx,:].toarray()),axis=1)\n",
    "    job_id_list = group.JobID.values\n",
    "    jobs = job_set[job_set.JobID.isin(job_id_list)]\n",
    "    job_rank.extend(jobs.text.values.tolist())\n",
    "    user_feature = user_feature.repeat(len(jobs),axis=0)\n",
    "    user_feature = np.concatenate((user_feature,group[[\"State\",\"City\"]].values),axis=1)\n",
    "    user_rank = np.concatenate((user_rank,user_feature), axis=0)\n"
   ]
  },
  {
   "cell_type": "code",
   "execution_count": null,
   "metadata": {
    "colab": {
     "base_uri": "https://localhost:8080/"
    },
    "id": "roYlH8pRTeJ-",
    "outputId": "1e3fceb7-54e4-4f14-8b9e-380a45ecb965"
   },
   "outputs": [],
   "source": [
    "sen_len = 200\n",
    "preprocess = Preprocess(job_rank, sen_len, w2v_path=\"word2vec.model\")\n",
    "embedding = preprocess.make_embedding(load=True)\n",
    "rank_x = preprocess.sentence_word2idx()"
   ]
  },
  {
   "cell_type": "code",
   "execution_count": null,
   "metadata": {
    "id": "OF0WlBULUb_g"
   },
   "outputs": [],
   "source": [
    "rank_dataset = JobUserDataset(rank_x, user_rank, None)\n",
    "rank_loader = DataLoader(dataset= rank_dataset, batch_size = 100, shuffle = False)"
   ]
  },
  {
   "cell_type": "code",
   "execution_count": null,
   "metadata": {
    "id": "7yz5oNR5Uu9I"
   },
   "outputs": [],
   "source": [
    "def test_hit_rate(model,N,num_user):\n",
    "  hit = 0\n",
    "  model.eval()\n",
    "  for jobs, users in rank_loader:\n",
    "    jobs = jobs.to(device)\n",
    "    users = users.to(torch.float32)\n",
    "    users = users.to(device)\n",
    "    outputs = model(jobs, users)\n",
    "    pred = outputs.cpu().detach().numpy()\n",
    "    a = -np.sort(-pred)\n",
    "    idx = np.argwhere(a==pred[0])[0][0]\n",
    "    if idx <= N-1:\n",
    "        hit += 1\n",
    "  return hit/num_user"
   ]
  },
  {
   "cell_type": "code",
   "execution_count": null,
   "metadata": {
    "id": "VzTvBIAVV6GX"
   },
   "outputs": [],
   "source": [
    "num_user = len(ranking_data.UserID.unique())\n",
    "m = torch.load(\"textCNN_ckpt.model\")"
   ]
  },
  {
   "cell_type": "code",
   "execution_count": null,
   "metadata": {
    "colab": {
     "base_uri": "https://localhost:8080/"
    },
    "id": "H2XaAN4IW6XK",
    "outputId": "0269d779-bac0-4283-d22f-c6aedb27fca3"
   },
   "outputs": [],
   "source": [
    "test_hit_rate(m, 1, num_user), test_hit_rate(m, 5, num_user), test_hit_rate(m, 10, num_user), test_hit_rate(m, 20, num_user)"
   ]
  },
  {
   "cell_type": "code",
   "execution_count": null,
   "metadata": {},
   "outputs": [],
   "source": [
    "(software, 47)"
   ]
  },
  {
   "cell_type": "code",
   "execution_count": null,
   "metadata": {},
   "outputs": [],
   "source": []
  }
 ],
 "metadata": {
  "accelerator": "GPU",
  "colab": {
   "collapsed_sections": [
    "isRZl0ojTakT",
    "4_vUcwZfw5aT",
    "Uu9dJDaIxCGP",
    "njpTVxNpxHsr",
    "YkYS1VOvy5gg",
    "h-MosyIZSuOs"
   ],
   "machine_shape": "hm",
   "name": "PJFNN.ipynb",
   "provenance": []
  },
  "kernelspec": {
   "display_name": "Python 3 (ipykernel)",
   "language": "python",
   "name": "python3"
  },
  "language_info": {
   "codemirror_mode": {
    "name": "ipython",
    "version": 3
   },
   "file_extension": ".py",
   "mimetype": "text/x-python",
   "name": "python",
   "nbconvert_exporter": "python",
   "pygments_lexer": "ipython3",
   "version": "3.11.5"
  }
 },
 "nbformat": 4,
 "nbformat_minor": 1
}
